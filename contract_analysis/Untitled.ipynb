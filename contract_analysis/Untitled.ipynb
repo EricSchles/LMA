{
 "cells": [
  {
   "cell_type": "code",
   "execution_count": 1,
   "metadata": {},
   "outputs": [],
   "source": [
    "import pandas as pd\n",
    "import matplotlib.pyplot as plt\n",
    "%matplotlib inline"
   ]
  },
  {
   "cell_type": "code",
   "execution_count": 4,
   "metadata": {},
   "outputs": [],
   "source": [
    "df = pd.read_csv(\"TAGGS Export 4rawnez1.ic4.csv\")"
   ]
  },
  {
   "cell_type": "code",
   "execution_count": 7,
   "metadata": {
    "scrolled": true
   },
   "outputs": [
    {
     "data": {
      "text/plain": [
       "TX    140\n",
       "NY     70\n",
       "VA     27\n",
       "CA     26\n",
       "MD     22\n",
       "IL     21\n",
       "OR     17\n",
       "WA     15\n",
       "DC     14\n",
       "FL      9\n",
       "PA      9\n",
       "AZ      7\n",
       "NJ      6\n",
       "NV      5\n",
       "CT      5\n",
       "KS      4\n",
       "Name: State, dtype: int64"
      ]
     },
     "execution_count": 7,
     "metadata": {},
     "output_type": "execute_result"
    }
   ],
   "source": [
    "df[\"State\"].value_counts()"
   ]
  },
  {
   "cell_type": "code",
   "execution_count": 8,
   "metadata": {
    "scrolled": true
   },
   "outputs": [
    {
     "data": {
      "text/html": [
       "<div>\n",
       "<style scoped>\n",
       "    .dataframe tbody tr th:only-of-type {\n",
       "        vertical-align: middle;\n",
       "    }\n",
       "\n",
       "    .dataframe tbody tr th {\n",
       "        vertical-align: top;\n",
       "    }\n",
       "\n",
       "    .dataframe thead th {\n",
       "        text-align: right;\n",
       "    }\n",
       "</style>\n",
       "<table border=\"1\" class=\"dataframe\">\n",
       "  <thead>\n",
       "    <tr style=\"text-align: right;\">\n",
       "      <th></th>\n",
       "      <th>Data FY</th>\n",
       "      <th>OPDIV</th>\n",
       "      <th>CFDA Num</th>\n",
       "      <th>CFDA Program Title</th>\n",
       "      <th>Unnamed: 4</th>\n",
       "      <th>State</th>\n",
       "      <th>Award Number</th>\n",
       "      <th>Award Title</th>\n",
       "      <th>Award Code</th>\n",
       "      <th>Budget Year</th>\n",
       "      <th>Action Date</th>\n",
       "      <th>Recipient Name</th>\n",
       "      <th>ZIP Code</th>\n",
       "      <th>Award Amount</th>\n",
       "    </tr>\n",
       "  </thead>\n",
       "  <tbody>\n",
       "    <tr>\n",
       "      <th>0</th>\n",
       "      <td>2018.0</td>\n",
       "      <td>ACF</td>\n",
       "      <td>93676.0</td>\n",
       "      <td>Unaccompanied Alien Children Program</td>\n",
       "      <td>NaN</td>\n",
       "      <td>WA</td>\n",
       "      <td>90ZU0151</td>\n",
       "      <td>23 Bed staff secure program for unaccompanied ...</td>\n",
       "      <td>5.0</td>\n",
       "      <td>3.0</td>\n",
       "      <td>2/5/2018</td>\n",
       "      <td>Pioneer Human Services</td>\n",
       "      <td>981084141.0</td>\n",
       "      <td>$539,323</td>\n",
       "    </tr>\n",
       "    <tr>\n",
       "      <th>1</th>\n",
       "      <td>2018.0</td>\n",
       "      <td>ACF</td>\n",
       "      <td>93676.0</td>\n",
       "      <td>Unaccompanied Alien Children Program</td>\n",
       "      <td>NaN</td>\n",
       "      <td>WA</td>\n",
       "      <td>90ZU0151</td>\n",
       "      <td>23 Bed staff secure program for unaccompanied ...</td>\n",
       "      <td>3.0</td>\n",
       "      <td>3.0</td>\n",
       "      <td>11/20/2017</td>\n",
       "      <td>Pioneer Human Services</td>\n",
       "      <td>981084141.0</td>\n",
       "      <td>$539,323</td>\n",
       "    </tr>\n",
       "    <tr>\n",
       "      <th>2</th>\n",
       "      <td>2018.0</td>\n",
       "      <td>ACF</td>\n",
       "      <td>93676.0</td>\n",
       "      <td>Unaccompanied Alien Children Program</td>\n",
       "      <td>NaN</td>\n",
       "      <td>WA</td>\n",
       "      <td>90ZU0151</td>\n",
       "      <td>23 Bed staff secure program for unaccompanied ...</td>\n",
       "      <td>6.0</td>\n",
       "      <td>3.0</td>\n",
       "      <td>5/10/2018</td>\n",
       "      <td>Pioneer Human Services</td>\n",
       "      <td>981084141.0</td>\n",
       "      <td>$1,078,645</td>\n",
       "    </tr>\n",
       "    <tr>\n",
       "      <th>3</th>\n",
       "      <td>2018.0</td>\n",
       "      <td>ACF</td>\n",
       "      <td>93676.0</td>\n",
       "      <td>Unaccompanied Alien Children Program</td>\n",
       "      <td>NaN</td>\n",
       "      <td>WA</td>\n",
       "      <td>90ZU0151</td>\n",
       "      <td>23 Bed staff secure program for unaccompanied ...</td>\n",
       "      <td>4.0</td>\n",
       "      <td>3.0</td>\n",
       "      <td>11/30/2017</td>\n",
       "      <td>Pioneer Human Services</td>\n",
       "      <td>981084141.0</td>\n",
       "      <td>$684,128</td>\n",
       "    </tr>\n",
       "    <tr>\n",
       "      <th>4</th>\n",
       "      <td>2018.0</td>\n",
       "      <td>ACF</td>\n",
       "      <td>93676.0</td>\n",
       "      <td>Unaccompanied Alien Children Program</td>\n",
       "      <td>NaN</td>\n",
       "      <td>AZ</td>\n",
       "      <td>90ZU0197</td>\n",
       "      <td>A New Leaf/Unaccompanied Children's Program</td>\n",
       "      <td>0.0</td>\n",
       "      <td>2.0</td>\n",
       "      <td>2/21/2018</td>\n",
       "      <td>A NEW LEAF, INC.</td>\n",
       "      <td>85203.0</td>\n",
       "      <td>$752,033</td>\n",
       "    </tr>\n",
       "  </tbody>\n",
       "</table>\n",
       "</div>"
      ],
      "text/plain": [
       "   Data FY OPDIV  CFDA Num                    CFDA Program Title Unnamed: 4  \\\n",
       "0   2018.0   ACF   93676.0  Unaccompanied Alien Children Program        NaN   \n",
       "1   2018.0   ACF   93676.0  Unaccompanied Alien Children Program        NaN   \n",
       "2   2018.0   ACF   93676.0  Unaccompanied Alien Children Program        NaN   \n",
       "3   2018.0   ACF   93676.0  Unaccompanied Alien Children Program        NaN   \n",
       "4   2018.0   ACF   93676.0  Unaccompanied Alien Children Program        NaN   \n",
       "\n",
       "  State Award Number                                        Award Title  \\\n",
       "0    WA     90ZU0151  23 Bed staff secure program for unaccompanied ...   \n",
       "1    WA     90ZU0151  23 Bed staff secure program for unaccompanied ...   \n",
       "2    WA     90ZU0151  23 Bed staff secure program for unaccompanied ...   \n",
       "3    WA     90ZU0151  23 Bed staff secure program for unaccompanied ...   \n",
       "4    AZ     90ZU0197        A New Leaf/Unaccompanied Children's Program   \n",
       "\n",
       "   Award Code  Budget Year Action Date          Recipient Name     ZIP Code  \\\n",
       "0         5.0          3.0    2/5/2018  Pioneer Human Services  981084141.0   \n",
       "1         3.0          3.0  11/20/2017  Pioneer Human Services  981084141.0   \n",
       "2         6.0          3.0   5/10/2018  Pioneer Human Services  981084141.0   \n",
       "3         4.0          3.0  11/30/2017  Pioneer Human Services  981084141.0   \n",
       "4         0.0          2.0   2/21/2018        A NEW LEAF, INC.      85203.0   \n",
       "\n",
       "  Award Amount  \n",
       "0     $539,323  \n",
       "1     $539,323  \n",
       "2   $1,078,645  \n",
       "3     $684,128  \n",
       "4     $752,033  "
      ]
     },
     "execution_count": 8,
     "metadata": {},
     "output_type": "execute_result"
    }
   ],
   "source": [
    "df.head()"
   ]
  },
  {
   "cell_type": "code",
   "execution_count": 9,
   "metadata": {},
   "outputs": [
    {
     "data": {
      "text/plain": [
       "46"
      ]
     },
     "execution_count": 9,
     "metadata": {},
     "output_type": "execute_result"
    }
   ],
   "source": [
    "df[\"ZIP Code\"].unique()"
   ]
  },
  {
   "cell_type": "code",
   "execution_count": 13,
   "metadata": {},
   "outputs": [
    {
     "data": {
      "text/plain": [
       "'98108'"
      ]
     },
     "execution_count": 13,
     "metadata": {},
     "output_type": "execute_result"
    }
   ],
   "source": [
    "str(df[\"ZIP Code\"][0])[:5]"
   ]
  },
  {
   "cell_type": "code",
   "execution_count": 15,
   "metadata": {},
   "outputs": [],
   "source": [
    "airports = pd.read_csv(\"airport_codes.csv\")"
   ]
  },
  {
   "cell_type": "code",
   "execution_count": 16,
   "metadata": {},
   "outputs": [
    {
     "data": {
      "text/html": [
       "<div>\n",
       "<style scoped>\n",
       "    .dataframe tbody tr th:only-of-type {\n",
       "        vertical-align: middle;\n",
       "    }\n",
       "\n",
       "    .dataframe tbody tr th {\n",
       "        vertical-align: top;\n",
       "    }\n",
       "\n",
       "    .dataframe thead th {\n",
       "        text-align: right;\n",
       "    }\n",
       "</style>\n",
       "<table border=\"1\" class=\"dataframe\">\n",
       "  <thead>\n",
       "    <tr style=\"text-align: right;\">\n",
       "      <th></th>\n",
       "      <th>ident</th>\n",
       "      <th>type</th>\n",
       "      <th>name</th>\n",
       "      <th>coordinates</th>\n",
       "      <th>elevation_ft</th>\n",
       "      <th>continent</th>\n",
       "      <th>iso_country</th>\n",
       "      <th>iso_region</th>\n",
       "      <th>municipality</th>\n",
       "      <th>gps_code</th>\n",
       "      <th>iata_code</th>\n",
       "      <th>local_code</th>\n",
       "    </tr>\n",
       "  </thead>\n",
       "  <tbody>\n",
       "    <tr>\n",
       "      <th>0</th>\n",
       "      <td>00A</td>\n",
       "      <td>heliport</td>\n",
       "      <td>Total Rf Heliport</td>\n",
       "      <td>-74.93360137939453, 40.07080078125</td>\n",
       "      <td>11.0</td>\n",
       "      <td>NaN</td>\n",
       "      <td>US</td>\n",
       "      <td>US-PA</td>\n",
       "      <td>Bensalem</td>\n",
       "      <td>00A</td>\n",
       "      <td>NaN</td>\n",
       "      <td>00A</td>\n",
       "    </tr>\n",
       "    <tr>\n",
       "      <th>1</th>\n",
       "      <td>00AA</td>\n",
       "      <td>small_airport</td>\n",
       "      <td>Aero B Ranch Airport</td>\n",
       "      <td>-101.473911, 38.704022</td>\n",
       "      <td>3435.0</td>\n",
       "      <td>NaN</td>\n",
       "      <td>US</td>\n",
       "      <td>US-KS</td>\n",
       "      <td>Leoti</td>\n",
       "      <td>00AA</td>\n",
       "      <td>NaN</td>\n",
       "      <td>00AA</td>\n",
       "    </tr>\n",
       "    <tr>\n",
       "      <th>2</th>\n",
       "      <td>00AK</td>\n",
       "      <td>small_airport</td>\n",
       "      <td>Lowell Field</td>\n",
       "      <td>-151.695999146, 59.94919968</td>\n",
       "      <td>450.0</td>\n",
       "      <td>NaN</td>\n",
       "      <td>US</td>\n",
       "      <td>US-AK</td>\n",
       "      <td>Anchor Point</td>\n",
       "      <td>00AK</td>\n",
       "      <td>NaN</td>\n",
       "      <td>00AK</td>\n",
       "    </tr>\n",
       "    <tr>\n",
       "      <th>3</th>\n",
       "      <td>00AL</td>\n",
       "      <td>small_airport</td>\n",
       "      <td>Epps Airpark</td>\n",
       "      <td>-86.77030181884766, 34.86479949951172</td>\n",
       "      <td>820.0</td>\n",
       "      <td>NaN</td>\n",
       "      <td>US</td>\n",
       "      <td>US-AL</td>\n",
       "      <td>Harvest</td>\n",
       "      <td>00AL</td>\n",
       "      <td>NaN</td>\n",
       "      <td>00AL</td>\n",
       "    </tr>\n",
       "    <tr>\n",
       "      <th>4</th>\n",
       "      <td>00AR</td>\n",
       "      <td>closed</td>\n",
       "      <td>Newport Hospital &amp; Clinic Heliport</td>\n",
       "      <td>-91.254898, 35.6087</td>\n",
       "      <td>237.0</td>\n",
       "      <td>NaN</td>\n",
       "      <td>US</td>\n",
       "      <td>US-AR</td>\n",
       "      <td>Newport</td>\n",
       "      <td>NaN</td>\n",
       "      <td>NaN</td>\n",
       "      <td>NaN</td>\n",
       "    </tr>\n",
       "  </tbody>\n",
       "</table>\n",
       "</div>"
      ],
      "text/plain": [
       "  ident           type                                name  \\\n",
       "0   00A       heliport                   Total Rf Heliport   \n",
       "1  00AA  small_airport                Aero B Ranch Airport   \n",
       "2  00AK  small_airport                        Lowell Field   \n",
       "3  00AL  small_airport                        Epps Airpark   \n",
       "4  00AR         closed  Newport Hospital & Clinic Heliport   \n",
       "\n",
       "                             coordinates  elevation_ft continent iso_country  \\\n",
       "0     -74.93360137939453, 40.07080078125          11.0       NaN          US   \n",
       "1                 -101.473911, 38.704022        3435.0       NaN          US   \n",
       "2            -151.695999146, 59.94919968         450.0       NaN          US   \n",
       "3  -86.77030181884766, 34.86479949951172         820.0       NaN          US   \n",
       "4                    -91.254898, 35.6087         237.0       NaN          US   \n",
       "\n",
       "  iso_region  municipality gps_code iata_code local_code  \n",
       "0      US-PA      Bensalem      00A       NaN        00A  \n",
       "1      US-KS         Leoti     00AA       NaN       00AA  \n",
       "2      US-AK  Anchor Point     00AK       NaN       00AK  \n",
       "3      US-AL       Harvest     00AL       NaN       00AL  \n",
       "4      US-AR       Newport      NaN       NaN        NaN  "
      ]
     },
     "execution_count": 16,
     "metadata": {},
     "output_type": "execute_result"
    }
   ],
   "source": [
    "airports.head()"
   ]
  },
  {
   "cell_type": "code",
   "execution_count": 17,
   "metadata": {},
   "outputs": [
    {
     "data": {
      "text/plain": [
       "array(['heliport', 'small_airport', 'closed', 'seaplane_base',\n",
       "       'balloonport', 'medium_airport', 'large_airport'], dtype=object)"
      ]
     },
     "execution_count": 17,
     "metadata": {},
     "output_type": "execute_result"
    }
   ],
   "source": [
    "airports[\"type\"].unique()"
   ]
  },
  {
   "cell_type": "code",
   "execution_count": null,
   "metadata": {},
   "outputs": [],
   "source": []
  }
 ],
 "metadata": {
  "kernelspec": {
   "display_name": "Python 3",
   "language": "python",
   "name": "python3"
  },
  "language_info": {
   "codemirror_mode": {
    "name": "ipython",
    "version": 3
   },
   "file_extension": ".py",
   "mimetype": "text/x-python",
   "name": "python",
   "nbconvert_exporter": "python",
   "pygments_lexer": "ipython3",
   "version": "3.6.3"
  }
 },
 "nbformat": 4,
 "nbformat_minor": 2
}
